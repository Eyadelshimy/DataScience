{
 "cells": [
  {
   "metadata": {
    "ExecuteTime": {
     "end_time": "2025-04-21T15:21:08.468738Z",
     "start_time": "2025-04-21T15:21:08.450736Z"
    }
   },
   "cell_type": "code",
   "source": [
    "import pandas as pd\n",
    "import numpy as np\n",
    "from sklearn.model_selection import train_test_split\n",
    "from sklearn.preprocessing import LabelEncoder, StandardScaler\n",
    "from sklearn.neighbors import KNeighborsClassifier\n",
    "from sklearn.naive_bayes import GaussianNB\n",
    "from sklearn.tree import DecisionTreeClassifier\n",
    "from sklearn.ensemble import RandomForestClassifier\n",
    "from sklearn.metrics import accuracy_score, confusion_matrix, recall_score, precision_score\n",
    "import tensorflow as tf\n",
    "from tensorflow.keras.models import Sequential\n",
    "from tensorflow.keras.layers import Dense"
   ],
   "id": "dae206816cdcc006",
   "outputs": [],
   "execution_count": 9
  },
  {
   "metadata": {
    "ExecuteTime": {
     "end_time": "2025-04-21T15:21:00.860522Z",
     "start_time": "2025-04-21T15:21:00.558878Z"
    }
   },
   "cell_type": "code",
   "source": "df = pd.read_csv(\"./Datasets/loan_approval_dataset.csv\")",
   "id": "fa0afe927d2032a8",
   "outputs": [],
   "execution_count": 8
  },
  {
   "metadata": {},
   "cell_type": "markdown",
   "source": "# Data Preparation",
   "id": "2c72340a242e1e67"
  },
  {
   "metadata": {
    "ExecuteTime": {
     "end_time": "2025-04-21T15:21:10.826598Z",
     "start_time": "2025-04-21T15:21:10.736133Z"
    }
   },
   "cell_type": "code",
   "source": [
    "# a) Categorical Encoding\n",
    "categorical_columns = df.select_dtypes(include=['object']).columns\n",
    "label_encoders = {}\n",
    "for col in categorical_columns:\n",
    "    le = LabelEncoder()\n",
    "    df[col] = le.fit_transform(df[col])\n",
    "    label_encoders[col] = le"
   ],
   "id": "e9e0b041460632ee",
   "outputs": [],
   "execution_count": 10
  },
  {
   "metadata": {
    "ExecuteTime": {
     "end_time": "2025-04-21T15:24:46.780849Z",
     "start_time": "2025-04-21T15:24:46.765340Z"
    }
   },
   "cell_type": "code",
   "source": [
    "# Assuming the last column is the target variable\n",
    "X = df.iloc[:, :-1]  # All columns except the last\n",
    "y = df.iloc[:, -1]   # The last column"
   ],
   "id": "2b1c6fc8a0296608",
   "outputs": [],
   "execution_count": 13
  },
  {
   "metadata": {
    "ExecuteTime": {
     "end_time": "2025-04-21T15:24:57.868627Z",
     "start_time": "2025-04-21T15:24:57.735091Z"
    }
   },
   "cell_type": "code",
   "source": [
    "# c) Training and Testing Sets\n",
    "X_train, X_test, y_train, y_test = train_test_split(X, y, test_size=0.2, random_state=42)"
   ],
   "id": "68b86ab185c7d450",
   "outputs": [],
   "execution_count": 14
  },
  {
   "metadata": {
    "ExecuteTime": {
     "end_time": "2025-04-21T15:24:59.400208Z",
     "start_time": "2025-04-21T15:24:59.335940Z"
    }
   },
   "cell_type": "code",
   "source": [
    "# Standardize the features\n",
    "scaler = StandardScaler()\n",
    "X_train = scaler.fit_transform(X_train)\n",
    "X_test = scaler.transform(X_test)\n"
   ],
   "id": "ee09b58fdaf93a75",
   "outputs": [],
   "execution_count": 15
  },
  {
   "metadata": {},
   "cell_type": "markdown",
   "source": "# Apply Machine Learning Algorithms",
   "id": "80aeac7c387463db"
  },
  {
   "metadata": {
    "ExecuteTime": {
     "end_time": "2025-04-21T15:25:23.534931Z",
     "start_time": "2025-04-21T15:25:23.431090Z"
    }
   },
   "cell_type": "code",
   "source": [
    "# a) K-Nearest Neighbors (KNN)\n",
    "knn = KNeighborsClassifier(n_neighbors=5)\n",
    "knn.fit(X_train, y_train)\n",
    "y_pred_knn = knn.predict(X_test)"
   ],
   "id": "67bbb0fc37b9c56e",
   "outputs": [],
   "execution_count": 20
  },
  {
   "metadata": {
    "ExecuteTime": {
     "end_time": "2025-04-21T15:25:03.361503Z",
     "start_time": "2025-04-21T15:25:03.319028Z"
    }
   },
   "cell_type": "code",
   "source": [
    "# b) Naive Bayes\n",
    "nb = GaussianNB()\n",
    "nb.fit(X_train, y_train)\n",
    "y_pred_nb = nb.predict(X_test)\n"
   ],
   "id": "7a27603033118fab",
   "outputs": [],
   "execution_count": 17
  },
  {
   "metadata": {
    "ExecuteTime": {
     "end_time": "2025-04-21T15:25:05.224639Z",
     "start_time": "2025-04-21T15:25:05.069343Z"
    }
   },
   "cell_type": "code",
   "source": [
    "# c) Decision Tree\n",
    "dt = DecisionTreeClassifier(random_state=42)\n",
    "dt.fit(X_train, y_train)\n",
    "y_pred_dt = dt.predict(X_test)\n"
   ],
   "id": "4fa55bdc00b1d2ef",
   "outputs": [],
   "execution_count": 18
  },
  {
   "metadata": {
    "ExecuteTime": {
     "end_time": "2025-04-21T15:25:08.629818Z",
     "start_time": "2025-04-21T15:25:07.685106Z"
    }
   },
   "cell_type": "code",
   "source": [
    "# d) Random Forest\n",
    "rf = RandomForestClassifier(random_state=42)\n",
    "rf.fit(X_train, y_train)\n",
    "y_pred_rf = rf.predict(X_test)"
   ],
   "id": "6989540d1231b9ea",
   "outputs": [],
   "execution_count": 19
  },
  {
   "metadata": {
    "ExecuteTime": {
     "end_time": "2025-04-21T15:25:30.581924Z",
     "start_time": "2025-04-21T15:25:26.082439Z"
    }
   },
   "cell_type": "code",
   "source": [
    "# Bonus: Deep Learning Model\n",
    "model = Sequential([\n",
    "    Dense(64, activation='relu', input_shape=(X_train.shape[1],)),\n",
    "    Dense(32, activation='relu'),\n",
    "    Dense(1, activation='sigmoid')\n",
    "])\n",
    "model.compile(optimizer='adam', loss='binary_crossentropy', metrics=['accuracy'])\n",
    "model.fit(X_train, y_train, epochs=10, batch_size=32, verbose=0)\n",
    "y_pred_dl = (model.predict(X_test) > 0.5).astype(int).flatten()\n"
   ],
   "id": "c14a25a7e0dfd0c7",
   "outputs": [
    {
     "name": "stderr",
     "output_type": "stream",
     "text": [
      "C:\\Users\\eyade\\PycharmProjects\\DataScience\\.venv\\Lib\\site-packages\\keras\\src\\layers\\core\\dense.py:87: UserWarning: Do not pass an `input_shape`/`input_dim` argument to a layer. When using Sequential models, prefer using an `Input(shape)` object as the first layer in the model instead.\n",
      "  super().__init__(activity_regularizer=activity_regularizer, **kwargs)\n"
     ]
    },
    {
     "name": "stdout",
     "output_type": "stream",
     "text": [
      "\u001B[1m32/32\u001B[0m \u001B[32m━━━━━━━━━━━━━━━━━━━━\u001B[0m\u001B[37m\u001B[0m \u001B[1m0s\u001B[0m 2ms/step \n"
     ]
    }
   ],
   "execution_count": 21
  },
  {
   "metadata": {},
   "cell_type": "markdown",
   "source": "# model evaluation",
   "id": "2a3cc5ae49bbdbcc"
  },
  {
   "metadata": {
    "ExecuteTime": {
     "end_time": "2025-04-21T15:25:46.879364Z",
     "start_time": "2025-04-21T15:25:46.598007Z"
    }
   },
   "cell_type": "code",
   "source": [
    "def evaluate_model(y_test, y_pred, model_name):\n",
    "    accuracy = accuracy_score(y_test, y_pred)\n",
    "    cm = confusion_matrix(y_test, y_pred)\n",
    "    recall = recall_score(y_test, y_pred)\n",
    "    precision = precision_score(y_test, y_pred)\n",
    "    print(f\"{model_name} Performance:\")\n",
    "    print(f\"Accuracy: {accuracy:.2f}\")\n",
    "    print(f\"Confusion Matrix:\\n{cm}\")\n",
    "    print(f\"Recall: {recall:.2f}\")\n",
    "    print(f\"Precision: {precision:.2f}\")\n",
    "    print(\"-\" * 30)\n",
    "\n",
    "evaluate_model(y_test, y_pred_knn, \"K-Nearest Neighbors\")\n",
    "evaluate_model(y_test, y_pred_nb, \"Naive Bayes\")\n",
    "evaluate_model(y_test, y_pred_dt, \"Decision Tree\")\n",
    "evaluate_model(y_test, y_pred_rf, \"Random Forest\")\n",
    "evaluate_model(y_test, y_pred_dl, \"Deep Learning Model\")"
   ],
   "id": "de70a6d981ee776e",
   "outputs": [
    {
     "name": "stdout",
     "output_type": "stream",
     "text": [
      "K-Nearest Neighbors Performance:\n",
      "Accuracy: 0.90\n",
      "Confusion Matrix:\n",
      "[[903   4]\n",
      " [ 92   1]]\n",
      "Recall: 0.01\n",
      "Precision: 0.20\n",
      "------------------------------\n",
      "Naive Bayes Performance:\n",
      "Accuracy: 0.91\n",
      "Confusion Matrix:\n",
      "[[907   0]\n",
      " [ 93   0]]\n",
      "Recall: 0.00\n",
      "Precision: 0.00\n",
      "------------------------------\n",
      "Decision Tree Performance:\n",
      "Accuracy: 0.81\n",
      "Confusion Matrix:\n",
      "[[794 113]\n",
      " [ 80  13]]\n",
      "Recall: 0.14\n",
      "Precision: 0.10\n",
      "------------------------------\n",
      "Random Forest Performance:\n",
      "Accuracy: 0.91\n",
      "Confusion Matrix:\n",
      "[[907   0]\n",
      " [ 93   0]]\n",
      "Recall: 0.00\n",
      "Precision: 0.00\n",
      "------------------------------\n",
      "Deep Learning Model Performance:\n",
      "Accuracy: 0.91\n",
      "Confusion Matrix:\n",
      "[[907   0]\n",
      " [ 93   0]]\n",
      "Recall: 0.00\n",
      "Precision: 0.00\n",
      "------------------------------\n"
     ]
    },
    {
     "name": "stderr",
     "output_type": "stream",
     "text": [
      "C:\\Users\\eyade\\PycharmProjects\\DataScience\\.venv\\Lib\\site-packages\\sklearn\\metrics\\_classification.py:1565: UndefinedMetricWarning: Precision is ill-defined and being set to 0.0 due to no predicted samples. Use `zero_division` parameter to control this behavior.\n",
      "  _warn_prf(average, modifier, f\"{metric.capitalize()} is\", len(result))\n",
      "C:\\Users\\eyade\\PycharmProjects\\DataScience\\.venv\\Lib\\site-packages\\sklearn\\metrics\\_classification.py:1565: UndefinedMetricWarning: Precision is ill-defined and being set to 0.0 due to no predicted samples. Use `zero_division` parameter to control this behavior.\n",
      "  _warn_prf(average, modifier, f\"{metric.capitalize()} is\", len(result))\n",
      "C:\\Users\\eyade\\PycharmProjects\\DataScience\\.venv\\Lib\\site-packages\\sklearn\\metrics\\_classification.py:1565: UndefinedMetricWarning: Precision is ill-defined and being set to 0.0 due to no predicted samples. Use `zero_division` parameter to control this behavior.\n",
      "  _warn_prf(average, modifier, f\"{metric.capitalize()} is\", len(result))\n"
     ]
    }
   ],
   "execution_count": 22
  }
 ],
 "metadata": {
  "kernelspec": {
   "name": "python3",
   "language": "python",
   "display_name": "Python 3 (ipykernel)"
  }
 },
 "nbformat": 5,
 "nbformat_minor": 9
}
