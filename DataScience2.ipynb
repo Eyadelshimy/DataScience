{
 "cells": [
  {
   "metadata": {},
   "cell_type": "raw",
   "source": "",
   "id": "90747beac16e1f01"
  },
  {
   "metadata": {
    "ExecuteTime": {
     "end_time": "2025-04-24T19:22:56.028756Z",
     "start_time": "2025-04-24T19:22:51.466301Z"
    }
   },
   "cell_type": "code",
   "source": [
    "import pandas as pd\n",
    "import numpy as np\n",
    "from sklearn.model_selection import train_test_split\n",
    "from sklearn.preprocessing import LabelEncoder, StandardScaler\n",
    "from sklearn.metrics import accuracy_score, confusion_matrix, precision_score, recall_score, classification_report\n",
    "from sklearn.naive_bayes import GaussianNB"
   ],
   "id": "dae206816cdcc006",
   "outputs": [],
   "execution_count": 14
  },
  {
   "metadata": {
    "ExecuteTime": {
     "end_time": "2025-04-24T19:23:03.562992Z",
     "start_time": "2025-04-24T19:23:03.540871Z"
    }
   },
   "cell_type": "code",
   "source": [
    "# Load the dataset\n",
    "df = pd.read_csv(\"./Datasets/loan_approval_dataset.csv\")"
   ],
   "id": "fa0afe927d2032a8",
   "outputs": [],
   "execution_count": 17
  },
  {
   "metadata": {},
   "cell_type": "markdown",
   "source": "# Data Preparation",
   "id": "2c72340a242e1e67"
  },
  {
   "metadata": {
    "ExecuteTime": {
     "end_time": "2025-04-24T19:23:05.408945Z",
     "start_time": "2025-04-24T19:23:05.138329Z"
    }
   },
   "cell_type": "code",
   "source": [
    "# Handle categorical encoding\n",
    "categorical_columns = df.select_dtypes(include=[\"object\"]).columns\n",
    "label_encoders = {}\n",
    "for col in categorical_columns:\n",
    "    le = LabelEncoder()\n",
    "    df[col] = le.fit_transform(df[col])\n",
    "    label_encoders[col] = le"
   ],
   "id": "e9e0b041460632ee",
   "outputs": [],
   "execution_count": 18
  },
  {
   "metadata": {
    "ExecuteTime": {
     "end_time": "2025-04-24T19:23:15.669671Z",
     "start_time": "2025-04-24T19:23:15.660311Z"
    }
   },
   "cell_type": "code",
   "source": [
    "# Split the data into features (X) and target (y)\n",
    "X = df.drop(\"Employment_Status\", axis=1)  # Replace \"Target\" with the actual target column name\n",
    "y = df[\"Employment_Status\"]"
   ],
   "id": "2b1c6fc8a0296608",
   "outputs": [],
   "execution_count": 20
  },
  {
   "metadata": {
    "ExecuteTime": {
     "end_time": "2025-04-24T19:23:17.711998Z",
     "start_time": "2025-04-24T19:23:17.622221Z"
    }
   },
   "cell_type": "code",
   "source": [
    "# Standardize numerical features\n",
    "scaler = StandardScaler()\n",
    "X = scaler.fit_transform(X)"
   ],
   "id": "68b86ab185c7d450",
   "outputs": [],
   "execution_count": 21
  },
  {
   "metadata": {
    "ExecuteTime": {
     "end_time": "2025-04-24T19:23:19.770088Z",
     "start_time": "2025-04-24T19:23:19.703918Z"
    }
   },
   "cell_type": "code",
   "source": [
    "# Split the data into training and testing sets\n",
    "X_train, X_test, y_train, y_test = train_test_split(X, y, test_size=0.2, random_state=42)"
   ],
   "id": "ee09b58fdaf93a75",
   "outputs": [],
   "execution_count": 22
  },
  {
   "metadata": {},
   "cell_type": "markdown",
   "source": "# Apply Machine Learning Algorithms",
   "id": "80aeac7c387463db"
  },
  {
   "metadata": {
    "ExecuteTime": {
     "end_time": "2025-04-24T19:23:22.839642Z",
     "start_time": "2025-04-24T19:23:21.368782Z"
    }
   },
   "cell_type": "code",
   "source": [
    "from sklearn.neighbors import KNeighborsClassifier\n",
    "\n",
    "# Train a KNN model\n",
    "knn = KNeighborsClassifier(n_neighbors=5)\n",
    "knn.fit(X_train, y_train)\n",
    "\n",
    "# Predict on the test set\n",
    "y_pred_knn = knn.predict(X_test)"
   ],
   "id": "67bbb0fc37b9c56e",
   "outputs": [],
   "execution_count": 23
  },
  {
   "metadata": {
    "ExecuteTime": {
     "end_time": "2025-04-24T19:23:24.920335Z",
     "start_time": "2025-04-24T19:23:24.755551Z"
    }
   },
   "cell_type": "code",
   "source": [
    "from sklearn.naive_bayes import GaussianNB\n",
    "\n",
    "# Train a Naive Bayes model\n",
    "nb = GaussianNB()\n",
    "nb.fit(X_train, y_train)\n",
    "\n",
    "# Predict on the test set\n",
    "y_pred_nb = nb.predict(X_test)"
   ],
   "id": "7a27603033118fab",
   "outputs": [],
   "execution_count": 24
  },
  {
   "metadata": {
    "ExecuteTime": {
     "end_time": "2025-04-24T19:23:29.432214Z",
     "start_time": "2025-04-24T19:23:27.411836Z"
    }
   },
   "cell_type": "code",
   "source": [
    "from sklearn.tree import DecisionTreeClassifier\n",
    "from sklearn.ensemble import RandomForestClassifier\n",
    "\n",
    "# Train a Decision Tree model\n",
    "dt = DecisionTreeClassifier(random_state=42)\n",
    "dt.fit(X_train, y_train)\n",
    "y_pred_dt = dt.predict(X_test)\n",
    "\n",
    "# Train a Random Forest model\n",
    "rf = RandomForestClassifier(random_state=42)\n",
    "rf.fit(X_train, y_train)\n",
    "y_pred_rf = rf.predict(X_test)"
   ],
   "id": "4fa55bdc00b1d2ef",
   "outputs": [],
   "execution_count": 25
  },
  {
   "metadata": {
    "ExecuteTime": {
     "end_time": "2025-04-24T19:20:05.254601Z",
     "start_time": "2025-04-24T19:19:38.855915Z"
    }
   },
   "cell_type": "code",
   "source": [
    "from tensorflow.keras.models import Sequential\n",
    "from tensorflow.keras.layers import Dense\n",
    "\n",
    "# Build a simple deep learning model\n",
    "model = Sequential([\n",
    "    Dense(64, activation=\"relu\", input_shape=(X_train.shape[1],)),\n",
    "    Dense(32, activation=\"relu\"),\n",
    "    Dense(1, activation=\"sigmoid\")\n",
    "])\n",
    "\n",
    "# Compile the model\n",
    "model.compile(optimizer=\"adam\", loss=\"binary_crossentropy\", metrics=[\"accuracy\"])\n",
    "\n",
    "# Train the model\n",
    "model.fit(X_train, y_train, epochs=10, batch_size=32, verbose=1)\n",
    "\n",
    "# Predict on the test set\n",
    "y_pred_dl = (model.predict(X_test) > 0.5).astype(int).flatten()"
   ],
   "id": "6989540d1231b9ea",
   "outputs": [
    {
     "name": "stderr",
     "output_type": "stream",
     "text": [
      "\n",
      "KeyboardInterrupt\n",
      "\n"
     ]
    }
   ],
   "execution_count": 11
  },
  {
   "metadata": {},
   "cell_type": "markdown",
   "source": "",
   "id": "8400d26972da5cdf"
  },
  {
   "metadata": {},
   "cell_type": "markdown",
   "source": "# model evaluation",
   "id": "2a3cc5ae49bbdbcc"
  },
  {
   "metadata": {
    "ExecuteTime": {
     "end_time": "2025-04-24T19:27:29.927049Z",
     "start_time": "2025-04-24T19:27:29.884875Z"
    }
   },
   "cell_type": "code",
   "source": [
    "def evaluate_model(y_test, y_pred, model_name):\n",
    "    print(f\"Evaluation Metrics for {model_name}:\")\n",
    "    print(f\"Accuracy: {accuracy_score(y_test, y_pred):.2f}\")\n",
    "    print(f\"Confusion Matrix:\\n{confusion_matrix(y_test, y_pred)}\")\n",
    "    print(f\"Precision: {precision_score(y_test, y_pred, average='weighted'):.2f}\")\n",
    "    print(f\"Recall: {recall_score(y_test, y_pred, average='weighted'):.2f}\")\n",
    "    print(\"\\n\")\n",
    "\n",
    "# Evaluate all models\n",
    "evaluate_model(y_test, y_pred_knn, \"K-Nearest Neighbors\")\n",
    "evaluate_model(y_test, y_pred_nb, \"Naive Bayes\")\n",
    "evaluate_model(y_test, y_pred_dt, \"Decision Tree\")\n",
    "evaluate_model(y_test, y_pred_rf, \"Random Forest\")"
   ],
   "id": "de70a6d981ee776e",
   "outputs": [
    {
     "name": "stdout",
     "output_type": "stream",
     "text": [
      "Evaluation Metrics for K-Nearest Neighbors:\n",
      "Accuracy: 0.34\n",
      "Confusion Matrix:\n",
      "[[156 128  52]\n",
      " [148 125  56]\n",
      " [156 124  55]]\n",
      "Precision: 0.34\n",
      "Recall: 0.34\n",
      "\n",
      "\n",
      "Evaluation Metrics for Naive Bayes:\n",
      "Accuracy: 0.33\n",
      "Confusion Matrix:\n",
      "[[114 144  78]\n",
      " [118 149  62]\n",
      " [106 164  65]]\n",
      "Precision: 0.33\n",
      "Recall: 0.33\n",
      "\n",
      "\n",
      "Evaluation Metrics for Decision Tree:\n",
      "Accuracy: 0.33\n",
      "Confusion Matrix:\n",
      "[[103 116 117]\n",
      " [121 101 107]\n",
      " [ 87 122 126]]\n",
      "Precision: 0.33\n",
      "Recall: 0.33\n",
      "\n",
      "\n",
      "Evaluation Metrics for Random Forest:\n",
      "Accuracy: 0.33\n",
      "Confusion Matrix:\n",
      "[[ 98 149  89]\n",
      " [124 136  69]\n",
      " [117 121  97]]\n",
      "Precision: 0.33\n",
      "Recall: 0.33\n",
      "\n",
      "\n"
     ]
    }
   ],
   "execution_count": 29
  }
 ],
 "metadata": {
  "kernelspec": {
   "name": "python3",
   "language": "python",
   "display_name": "Python 3 (ipykernel)"
  }
 },
 "nbformat": 5,
 "nbformat_minor": 9
}
